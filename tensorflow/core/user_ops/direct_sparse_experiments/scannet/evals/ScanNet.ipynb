{
 "cells": [
  {
   "cell_type": "markdown",
   "metadata": {
    "toc": true
   },
   "source": [
    "<h1>Table of Contents<span class=\"tocSkip\"></span></h1>\n",
    "<div class=\"toc\"><ul class=\"toc-item\"></ul></div>"
   ]
  },
  {
   "cell_type": "code",
   "execution_count": 1,
   "metadata": {},
   "outputs": [],
   "source": [
    "%load_ext autoreload\n",
    "%autoreload 2\n",
    "\n",
    "import sys\n",
    "sys.path.append('..')"
   ]
  },
  {
   "cell_type": "code",
   "execution_count": 2,
   "metadata": {},
   "outputs": [
    {
     "name": "stderr",
     "output_type": "stream",
     "text": [
      "Using TensorFlow backend.\n"
     ]
    }
   ],
   "source": [
    "import time\n",
    "\n",
    "import numpy as np\n",
    "import tensorflow as tf\n",
    "import matplotlib.pyplot as plt\n",
    "\n",
    "import direct_sparse_layer_definition as ld\n",
    "import sparse_tools as sp\n",
    "\n",
    "import models.modelnet as model\n",
    "from utils.scannet_dataset import ScanNetDataset\n",
    "\n",
    "%matplotlib inline"
   ]
  },
  {
   "cell_type": "code",
   "execution_count": 3,
   "metadata": {},
   "outputs": [],
   "source": [
    "SCANNET_PATH = '/scratch3/scannet/scans/'\n",
    "ds = ScanNetDataset(SCANNET_PATH, res=256, split=True, save_preloads=None)"
   ]
  },
  {
   "cell_type": "code",
   "execution_count": 4,
   "metadata": {},
   "outputs": [
    {
     "name": "stdout",
     "output_type": "stream",
     "text": [
      "('number of classes', 21)\n"
     ]
    }
   ],
   "source": [
    "res = 256\n",
    "BATCH_SIZE = 10\n",
    "tensor_in_sizes = np.array([BATCH_SIZE, res, res, res, 1]) #[batch, depth, height, width, in_channels]\n",
    "\n",
    "num_classes = ds.get_num_classes()\n",
    "print(\"number of classes\", num_classes)\n",
    "batch_label_sizes = [BATCH_SIZE, num_classes]\n",
    "max_epochs = 1000\n",
    "dim = 5\n",
    "regularizer = None\n",
    "initializer = tf.truncated_normal_initializer(0, 0.1)\n",
    "    \n",
    "sparse_data = tf.sparse_placeholder(tf.float32, shape=tensor_in_sizes, name=\"sparse_placeholder\")\n",
    "dense_labels = tf.placeholder(tf.float32, shape=batch_label_sizes, name=\"labels_placeholder\")\n",
    "\n",
    "net, ops = model.build_256(sparse_data, tensor_in_sizes, num_classes=num_classes,\n",
    "    scope='sn256-',\n",
    "    initializer=initializer,\n",
    "    regularizer=regularizer,\n",
    "    d1=0.01,\n",
    "    d2=0.03,\n",
    "    d3=0.07\n",
    ")\n",
    "\n",
    "loss = tf.reduce_mean(tf.nn.softmax_cross_entropy_with_logits_v2(logits=net['dense2'], labels=dense_labels, name='softmax_loss'))\n",
    "correct_prediction = tf.equal(tf.argmax(net['dense2'], 1), tf.argmax(dense_labels, 1))\n",
    "accuracy = tf.reduce_mean(tf.cast(correct_prediction, tf.float32))\n",
    "total_correct = tf.reduce_sum(tf.cast(correct_prediction, tf.float32))"
   ]
  },
  {
   "cell_type": "code",
   "execution_count": 5,
   "metadata": {},
   "outputs": [
    {
     "data": {
      "text/plain": [
       "[None, None]"
      ]
     },
     "execution_count": 5,
     "metadata": {},
     "output_type": "execute_result"
    }
   ],
   "source": [
    "global_step = tf.Variable(0, trainable=False)\n",
    "learning_rate = tf.train.exponential_decay(0.01, global_step, 1000, 0.96, staircase=True)\n",
    "optimizer = tf.train.AdagradOptimizer(learning_rate)\n",
    "train_op = optimizer.minimize(loss, global_step=None)\n",
    "\n",
    "sess = tf.Session()\n",
    "sess.run([tf.global_variables_initializer(), tf.local_variables_initializer()])"
   ]
  },
  {
   "cell_type": "code",
   "execution_count": 6,
   "metadata": {
    "scrolled": true
   },
   "outputs": [
    {
     "name": "stdout",
     "output_type": "stream",
     "text": [
      "Epoch 1 of 10000 took 42.655s\n",
      "  train loss    :\t\t1839.797852\n",
      "  train accu    :\t\t0.200000\n",
      "Epoch 2 of 10000 took 52.261s\n",
      "  train loss    :\t\t6294758.500000\n",
      "  train accu    :\t\t0.100000\n",
      "Epoch 3 of 10000 took 45.848s\n",
      "  train loss    :\t\t1855.794189\n",
      "  train accu    :\t\t0.100000\n",
      "Epoch 4 of 10000 took 41.596s\n",
      "  train loss    :\t\t364.985748\n",
      "  train accu    :\t\t0.100000\n",
      "Epoch 5 of 10000 took 46.512s\n",
      "  train loss    :\t\t237.286407\n",
      "  train accu    :\t\t0.100000\n",
      "Epoch 6 of 10000 took 55.504s\n",
      "  train loss    :\t\t76.800797\n",
      "  train accu    :\t\t0.000000\n",
      "Epoch 7 of 10000 took 52.139s\n",
      "  train loss    :\t\t17.378174\n",
      "  train accu    :\t\t0.000000\n",
      "Epoch 8 of 10000 took 45.079s\n",
      "  train loss    :\t\t5.340543\n",
      "  train accu    :\t\t0.100000\n",
      "Epoch 9 of 10000 took 50.802s\n",
      "  train loss    :\t\t11.032443\n",
      "  train accu    :\t\t0.100000\n",
      "Epoch 10 of 10000 took 51.199s\n",
      "  train loss    :\t\t20.176855\n",
      "  train accu    :\t\t0.000000\n",
      "  val loss    :\t\t3.471151\n",
      "  val accu    :\t\t0.005263\n",
      "Epoch 11 of 10000 took 53.355s\n",
      "  train loss    :\t\t33.735607\n",
      "  train accu    :\t\t0.100000\n",
      "Epoch 12 of 10000 took 57.746s\n",
      "  train loss    :\t\t15.335943\n",
      "  train accu    :\t\t0.000000\n",
      "Epoch 13 of 10000 took 41.687s\n",
      "  train loss    :\t\t11.205620\n",
      "  train accu    :\t\t0.000000\n",
      "Epoch 14 of 10000 took 57.005s\n",
      "  train loss    :\t\t13.591632\n",
      "  train accu    :\t\t0.100000\n",
      "Epoch 15 of 10000 took 48.222s\n",
      "  train loss    :\t\t6.827102\n",
      "  train accu    :\t\t0.000000\n",
      "Epoch 16 of 10000 took 51.795s\n",
      "  train loss    :\t\t4.711972\n",
      "  train accu    :\t\t0.000000\n",
      "Epoch 17 of 10000 took 48.144s\n",
      "  train loss    :\t\t6.424125\n",
      "  train accu    :\t\t0.100000\n",
      "Epoch 18 of 10000 took 46.890s\n",
      "  train loss    :\t\t5.046172\n",
      "  train accu    :\t\t0.000000\n",
      "Epoch 19 of 10000 took 43.173s\n",
      "  train loss    :\t\t3.847876\n",
      "  train accu    :\t\t0.100000\n",
      "Epoch 20 of 10000 took 58.656s\n",
      "  train loss    :\t\t6.173681\n",
      "  train accu    :\t\t0.100000\n"
     ]
    },
    {
     "ename": "KeyboardInterrupt",
     "evalue": "",
     "output_type": "error",
     "traceback": [
      "\u001b[0;31m---------------------------------------------------------------------------\u001b[0m",
      "\u001b[0;31mKeyboardInterrupt\u001b[0m                         Traceback (most recent call last)",
      "\u001b[0;32m<ipython-input-6-e33f5dbba6d7>\u001b[0m in \u001b[0;36m<module>\u001b[0;34m()\u001b[0m\n\u001b[1;32m     31\u001b[0m             \u001b[0mnum_val_batches\u001b[0m \u001b[0;34m+=\u001b[0m \u001b[0;36m1\u001b[0m\u001b[0;34m\u001b[0m\u001b[0m\n\u001b[1;32m     32\u001b[0m             \u001b[0mfeed_dict\u001b[0m\u001b[0;34m=\u001b[0m\u001b[0;34m{\u001b[0m\u001b[0msparse_data\u001b[0m\u001b[0;34m:\u001b[0m \u001b[0mtf\u001b[0m\u001b[0;34m.\u001b[0m\u001b[0mSparseTensorValue\u001b[0m\u001b[0;34m(\u001b[0m\u001b[0mbatch\u001b[0m\u001b[0;34m[\u001b[0m\u001b[0;36m0\u001b[0m\u001b[0;34m]\u001b[0m\u001b[0;34m,\u001b[0m \u001b[0mbatch\u001b[0m\u001b[0;34m[\u001b[0m\u001b[0;36m1\u001b[0m\u001b[0;34m]\u001b[0m\u001b[0;34m,\u001b[0m \u001b[0mbatch\u001b[0m\u001b[0;34m[\u001b[0m\u001b[0;36m2\u001b[0m\u001b[0;34m]\u001b[0m\u001b[0;34m)\u001b[0m\u001b[0;34m,\u001b[0m \u001b[0mdense_labels\u001b[0m\u001b[0;34m:\u001b[0m \u001b[0mbatch\u001b[0m\u001b[0;34m[\u001b[0m\u001b[0;36m3\u001b[0m\u001b[0;34m]\u001b[0m\u001b[0;34m}\u001b[0m\u001b[0;34m\u001b[0m\u001b[0m\n\u001b[0;32m---> 33\u001b[0;31m             \u001b[0ml_value\u001b[0m\u001b[0;34m,\u001b[0m \u001b[0mcorrect_value\u001b[0m \u001b[0;34m=\u001b[0m \u001b[0msess\u001b[0m\u001b[0;34m.\u001b[0m\u001b[0mrun\u001b[0m\u001b[0;34m(\u001b[0m\u001b[0;34m[\u001b[0m\u001b[0mloss\u001b[0m\u001b[0;34m,\u001b[0m \u001b[0mtotal_correct\u001b[0m\u001b[0;34m]\u001b[0m\u001b[0;34m,\u001b[0m \u001b[0mfeed_dict\u001b[0m\u001b[0;34m=\u001b[0m\u001b[0mfeed_dict\u001b[0m\u001b[0;34m)\u001b[0m\u001b[0;34m\u001b[0m\u001b[0m\n\u001b[0m\u001b[1;32m     34\u001b[0m             \u001b[0mval_loss\u001b[0m \u001b[0;34m+=\u001b[0m \u001b[0ml_value\u001b[0m\u001b[0;34m\u001b[0m\u001b[0m\n\u001b[1;32m     35\u001b[0m             \u001b[0mval_acc\u001b[0m \u001b[0;34m+=\u001b[0m \u001b[0mcorrect_value\u001b[0m\u001b[0;34m\u001b[0m\u001b[0m\n",
      "\u001b[0;32m/scratch/home/aelphy/timo_ve/local/lib/python2.7/site-packages/tensorflow/python/client/session.pyc\u001b[0m in \u001b[0;36mrun\u001b[0;34m(self, fetches, feed_dict, options, run_metadata)\u001b[0m\n\u001b[1;32m    885\u001b[0m     \u001b[0;32mtry\u001b[0m\u001b[0;34m:\u001b[0m\u001b[0;34m\u001b[0m\u001b[0m\n\u001b[1;32m    886\u001b[0m       result = self._run(None, fetches, feed_dict, options_ptr,\n\u001b[0;32m--> 887\u001b[0;31m                          run_metadata_ptr)\n\u001b[0m\u001b[1;32m    888\u001b[0m       \u001b[0;32mif\u001b[0m \u001b[0mrun_metadata\u001b[0m\u001b[0;34m:\u001b[0m\u001b[0;34m\u001b[0m\u001b[0m\n\u001b[1;32m    889\u001b[0m         \u001b[0mproto_data\u001b[0m \u001b[0;34m=\u001b[0m \u001b[0mtf_session\u001b[0m\u001b[0;34m.\u001b[0m\u001b[0mTF_GetBuffer\u001b[0m\u001b[0;34m(\u001b[0m\u001b[0mrun_metadata_ptr\u001b[0m\u001b[0;34m)\u001b[0m\u001b[0;34m\u001b[0m\u001b[0m\n",
      "\u001b[0;32m/scratch/home/aelphy/timo_ve/local/lib/python2.7/site-packages/tensorflow/python/client/session.pyc\u001b[0m in \u001b[0;36m_run\u001b[0;34m(self, handle, fetches, feed_dict, options, run_metadata)\u001b[0m\n\u001b[1;32m   1108\u001b[0m     \u001b[0;32mif\u001b[0m \u001b[0mfinal_fetches\u001b[0m \u001b[0;32mor\u001b[0m \u001b[0mfinal_targets\u001b[0m \u001b[0;32mor\u001b[0m \u001b[0;34m(\u001b[0m\u001b[0mhandle\u001b[0m \u001b[0;32mand\u001b[0m \u001b[0mfeed_dict_tensor\u001b[0m\u001b[0;34m)\u001b[0m\u001b[0;34m:\u001b[0m\u001b[0;34m\u001b[0m\u001b[0m\n\u001b[1;32m   1109\u001b[0m       results = self._do_run(handle, final_targets, final_fetches,\n\u001b[0;32m-> 1110\u001b[0;31m                              feed_dict_tensor, options, run_metadata)\n\u001b[0m\u001b[1;32m   1111\u001b[0m     \u001b[0;32melse\u001b[0m\u001b[0;34m:\u001b[0m\u001b[0;34m\u001b[0m\u001b[0m\n\u001b[1;32m   1112\u001b[0m       \u001b[0mresults\u001b[0m \u001b[0;34m=\u001b[0m \u001b[0;34m[\u001b[0m\u001b[0;34m]\u001b[0m\u001b[0;34m\u001b[0m\u001b[0m\n",
      "\u001b[0;32m/scratch/home/aelphy/timo_ve/local/lib/python2.7/site-packages/tensorflow/python/client/session.pyc\u001b[0m in \u001b[0;36m_do_run\u001b[0;34m(self, handle, target_list, fetch_list, feed_dict, options, run_metadata)\u001b[0m\n\u001b[1;32m   1284\u001b[0m     \u001b[0;32mif\u001b[0m \u001b[0mhandle\u001b[0m \u001b[0;32mis\u001b[0m \u001b[0mNone\u001b[0m\u001b[0;34m:\u001b[0m\u001b[0;34m\u001b[0m\u001b[0m\n\u001b[1;32m   1285\u001b[0m       return self._do_call(_run_fn, feeds, fetches, targets, options,\n\u001b[0;32m-> 1286\u001b[0;31m                            run_metadata)\n\u001b[0m\u001b[1;32m   1287\u001b[0m     \u001b[0;32melse\u001b[0m\u001b[0;34m:\u001b[0m\u001b[0;34m\u001b[0m\u001b[0m\n\u001b[1;32m   1288\u001b[0m       \u001b[0;32mreturn\u001b[0m \u001b[0mself\u001b[0m\u001b[0;34m.\u001b[0m\u001b[0m_do_call\u001b[0m\u001b[0;34m(\u001b[0m\u001b[0m_prun_fn\u001b[0m\u001b[0;34m,\u001b[0m \u001b[0mhandle\u001b[0m\u001b[0;34m,\u001b[0m \u001b[0mfeeds\u001b[0m\u001b[0;34m,\u001b[0m \u001b[0mfetches\u001b[0m\u001b[0;34m)\u001b[0m\u001b[0;34m\u001b[0m\u001b[0m\n",
      "\u001b[0;32m/scratch/home/aelphy/timo_ve/local/lib/python2.7/site-packages/tensorflow/python/client/session.pyc\u001b[0m in \u001b[0;36m_do_call\u001b[0;34m(self, fn, *args)\u001b[0m\n\u001b[1;32m   1290\u001b[0m   \u001b[0;32mdef\u001b[0m \u001b[0m_do_call\u001b[0m\u001b[0;34m(\u001b[0m\u001b[0mself\u001b[0m\u001b[0;34m,\u001b[0m \u001b[0mfn\u001b[0m\u001b[0;34m,\u001b[0m \u001b[0;34m*\u001b[0m\u001b[0margs\u001b[0m\u001b[0;34m)\u001b[0m\u001b[0;34m:\u001b[0m\u001b[0;34m\u001b[0m\u001b[0m\n\u001b[1;32m   1291\u001b[0m     \u001b[0;32mtry\u001b[0m\u001b[0;34m:\u001b[0m\u001b[0;34m\u001b[0m\u001b[0m\n\u001b[0;32m-> 1292\u001b[0;31m       \u001b[0;32mreturn\u001b[0m \u001b[0mfn\u001b[0m\u001b[0;34m(\u001b[0m\u001b[0;34m*\u001b[0m\u001b[0margs\u001b[0m\u001b[0;34m)\u001b[0m\u001b[0;34m\u001b[0m\u001b[0m\n\u001b[0m\u001b[1;32m   1293\u001b[0m     \u001b[0;32mexcept\u001b[0m \u001b[0merrors\u001b[0m\u001b[0;34m.\u001b[0m\u001b[0mOpError\u001b[0m \u001b[0;32mas\u001b[0m \u001b[0me\u001b[0m\u001b[0;34m:\u001b[0m\u001b[0;34m\u001b[0m\u001b[0m\n\u001b[1;32m   1294\u001b[0m       \u001b[0mmessage\u001b[0m \u001b[0;34m=\u001b[0m \u001b[0mcompat\u001b[0m\u001b[0;34m.\u001b[0m\u001b[0mas_text\u001b[0m\u001b[0;34m(\u001b[0m\u001b[0me\u001b[0m\u001b[0;34m.\u001b[0m\u001b[0mmessage\u001b[0m\u001b[0;34m)\u001b[0m\u001b[0;34m\u001b[0m\u001b[0m\n",
      "\u001b[0;32m/scratch/home/aelphy/timo_ve/local/lib/python2.7/site-packages/tensorflow/python/client/session.pyc\u001b[0m in \u001b[0;36m_run_fn\u001b[0;34m(feed_dict, fetch_list, target_list, options, run_metadata)\u001b[0m\n\u001b[1;32m   1275\u001b[0m       \u001b[0mself\u001b[0m\u001b[0;34m.\u001b[0m\u001b[0m_extend_graph\u001b[0m\u001b[0;34m(\u001b[0m\u001b[0;34m)\u001b[0m\u001b[0;34m\u001b[0m\u001b[0m\n\u001b[1;32m   1276\u001b[0m       return self._call_tf_sessionrun(\n\u001b[0;32m-> 1277\u001b[0;31m           options, feed_dict, fetch_list, target_list, run_metadata)\n\u001b[0m\u001b[1;32m   1278\u001b[0m \u001b[0;34m\u001b[0m\u001b[0m\n\u001b[1;32m   1279\u001b[0m     \u001b[0;32mdef\u001b[0m \u001b[0m_prun_fn\u001b[0m\u001b[0;34m(\u001b[0m\u001b[0mhandle\u001b[0m\u001b[0;34m,\u001b[0m \u001b[0mfeed_dict\u001b[0m\u001b[0;34m,\u001b[0m \u001b[0mfetch_list\u001b[0m\u001b[0;34m)\u001b[0m\u001b[0;34m:\u001b[0m\u001b[0;34m\u001b[0m\u001b[0m\n",
      "\u001b[0;32m/scratch/home/aelphy/timo_ve/local/lib/python2.7/site-packages/tensorflow/python/client/session.pyc\u001b[0m in \u001b[0;36m_call_tf_sessionrun\u001b[0;34m(self, options, feed_dict, fetch_list, target_list, run_metadata)\u001b[0m\n\u001b[1;32m   1365\u001b[0m     return tf_session.TF_SessionRun_wrapper(\n\u001b[1;32m   1366\u001b[0m         \u001b[0mself\u001b[0m\u001b[0;34m.\u001b[0m\u001b[0m_session\u001b[0m\u001b[0;34m,\u001b[0m \u001b[0moptions\u001b[0m\u001b[0;34m,\u001b[0m \u001b[0mfeed_dict\u001b[0m\u001b[0;34m,\u001b[0m \u001b[0mfetch_list\u001b[0m\u001b[0;34m,\u001b[0m \u001b[0mtarget_list\u001b[0m\u001b[0;34m,\u001b[0m\u001b[0;34m\u001b[0m\u001b[0m\n\u001b[0;32m-> 1367\u001b[0;31m         run_metadata)\n\u001b[0m\u001b[1;32m   1368\u001b[0m \u001b[0;34m\u001b[0m\u001b[0m\n\u001b[1;32m   1369\u001b[0m   \u001b[0;32mdef\u001b[0m \u001b[0m_call_tf_sessionprun\u001b[0m\u001b[0;34m(\u001b[0m\u001b[0mself\u001b[0m\u001b[0;34m,\u001b[0m \u001b[0mhandle\u001b[0m\u001b[0;34m,\u001b[0m \u001b[0mfeed_dict\u001b[0m\u001b[0;34m,\u001b[0m \u001b[0mfetch_list\u001b[0m\u001b[0;34m)\u001b[0m\u001b[0;34m:\u001b[0m\u001b[0;34m\u001b[0m\u001b[0m\n",
      "\u001b[0;31mKeyboardInterrupt\u001b[0m: "
     ]
    }
   ],
   "source": [
    "NUM_EPOCHS = 10000\n",
    "for epoch in range(1, 1 + NUM_EPOCHS):\n",
    "    t0 = time.time()\n",
    "    train_loss = 0\n",
    "    train_acc = 0\n",
    "    val_loss = 0\n",
    "    val_acc = 0\n",
    "    num_train_batches = 0\n",
    "    num_val_batches = 0\n",
    "    \n",
    "    for batch in ds.iterate_minibatches(BATCH_SIZE, 'train'):\n",
    "#         if len(batch[3]) != BATCH_SIZE:\n",
    "#             break\n",
    "\n",
    "        num_train_batches += 1\n",
    "        feed_dict={sparse_data: tf.SparseTensorValue(batch[0], batch[1], batch[2]), dense_labels: batch[3]}\n",
    "        _, l_value, correct_value = sess.run([train_op, loss, total_correct], feed_dict=feed_dict)\n",
    "        train_loss += l_value\n",
    "        train_acc += correct_value\n",
    "    t1 = time.time()\n",
    "\n",
    "    print('Epoch {} of {} took {:.3f}s'.format(epoch, NUM_EPOCHS, t1 - t0))\n",
    "    print('  train loss    :\\t\\t{:.6f}'.format(train_loss / num_train_batches))\n",
    "    print('  train accu    :\\t\\t{:.6f}'.format(train_acc / num_train_batches / BATCH_SIZE))\n",
    "    \n",
    "    if epoch % 10 == 0:\n",
    "        for batch in ds.iterate_minibatches(BATCH_SIZE, 'val', shuffle=False, angle=None):\n",
    "#             if len(batch[3]) != BATCH_SIZE:\n",
    "#                 break\n",
    "\n",
    "            num_val_batches += 1\n",
    "            feed_dict={sparse_data: tf.SparseTensorValue(batch[0], batch[1], batch[2]), dense_labels: batch[3]}\n",
    "            l_value, correct_value = sess.run([loss, total_correct], feed_dict=feed_dict)\n",
    "            val_loss += l_value\n",
    "            val_acc += correct_value\n",
    "        print('  val loss    :\\t\\t{:.6f}'.format(val_loss / num_val_batches))\n",
    "        print('  val accu    :\\t\\t{:.6f}'.format(val_acc / num_val_batches / BATCH_SIZE))"
   ]
  },
  {
   "cell_type": "code",
   "execution_count": null,
   "metadata": {},
   "outputs": [],
   "source": []
  },
  {
   "cell_type": "code",
   "execution_count": null,
   "metadata": {},
   "outputs": [],
   "source": [
    "saver = tf.train.Saver(var_list=tf.get_collection(tf.GraphKeys.GLOBAL_VARIABLES), max_to_keep=100)"
   ]
  },
  {
   "cell_type": "code",
   "execution_count": null,
   "metadata": {},
   "outputs": [],
   "source": [
    "saver.restore(sess, '../data/data')"
   ]
  },
  {
   "cell_type": "code",
   "execution_count": null,
   "metadata": {},
   "outputs": [],
   "source": [
    "saver.save(sess, '../data/data')"
   ]
  },
  {
   "cell_type": "code",
   "execution_count": null,
   "metadata": {},
   "outputs": [],
   "source": [
    "points = ds.get_data('/scratch3/scannet/scans/scene0000_00/scene0000_00_vh_clean.ply')"
   ]
  },
  {
   "cell_type": "code",
   "execution_count": null,
   "metadata": {},
   "outputs": [],
   "source": [
    "for batch1 in ds.iterate_minibatches(BATCH_SIZE, 'train'):\n",
    "#         if len(batch[3]) != BATCH_SIZE:\n",
    "#             break\n",
    "\n",
    "    break\n",
    "    \n",
    "for batch2 in ds.iterate_minibatches(BATCH_SIZE, 'train'):\n",
    "#         if len(batch[3]) != BATCH_SIZE:\n",
    "#             break\n",
    "\n",
    "    break"
   ]
  },
  {
   "cell_type": "code",
   "execution_count": null,
   "metadata": {},
   "outputs": [],
   "source": []
  },
  {
   "cell_type": "code",
   "execution_count": null,
   "metadata": {},
   "outputs": [],
   "source": [
    "feed_dict={sparse_data: tf.SparseTensorValue(batch1[0], batch1[1], batch1[2]), dense_labels: batch1[3]}"
   ]
  },
  {
   "cell_type": "code",
   "execution_count": null,
   "metadata": {},
   "outputs": [],
   "source": [
    "tf.global_variables()[4]"
   ]
  },
  {
   "cell_type": "code",
   "execution_count": null,
   "metadata": {},
   "outputs": [],
   "source": [
    "sess.run(tf.global_variables()[4])"
   ]
  },
  {
   "cell_type": "code",
   "execution_count": null,
   "metadata": {},
   "outputs": [],
   "source": [
    "sess.run(net['conv6_1'], feed_dict=feed_dict)"
   ]
  },
  {
   "cell_type": "code",
   "execution_count": null,
   "metadata": {},
   "outputs": [],
   "source": [
    "sess.run([train_op, loss, total_correct], feed_dict=feed_dict)"
   ]
  },
  {
   "cell_type": "code",
   "execution_count": null,
   "metadata": {},
   "outputs": [],
   "source": [
    "for k, v in ds.data_locs.items():\n",
    "    print(len(v))"
   ]
  },
  {
   "cell_type": "code",
   "execution_count": 7,
   "metadata": {},
   "outputs": [
    {
     "name": "stdout",
     "output_type": "stream",
     "text": [
      "10\n"
     ]
    }
   ],
   "source": [
    "answers = []\n",
    "labels = []\n",
    "for batch in ds.iterate_minibatches(10, 'train', shuffle=True, angle=-1):\n",
    "    feed_dict={sparse_data: tf.SparseTensorValue(batch[0], batch[1], batch[2]), dense_labels: batch[3]}\n",
    "    answers.append(sess.run(net['dense2'], feed_dict=feed_dict))\n",
    "    labels.append(batch[3])\n",
    "    print(len(batch[-1]))"
   ]
  },
  {
   "cell_type": "code",
   "execution_count": 8,
   "metadata": {},
   "outputs": [],
   "source": [
    "def softmax(x):\n",
    "    \"\"\"Compute softmax values for each sets of scores in x.\"\"\"\n",
    "    e_x = np.exp(x - np.max(x))\n",
    "    return e_x / e_x.sum(axis=0)"
   ]
  },
  {
   "cell_type": "code",
   "execution_count": 9,
   "metadata": {},
   "outputs": [
    {
     "data": {
      "text/plain": [
       "array([[  3.20965230e-01,   1.84494197e+00,  -1.56522304e-01,\n",
       "          8.25557411e-01,   1.35505855e+00,  -1.35855484e+00,\n",
       "          9.33725238e-01,  -1.08439684e+00,   1.07906389e+00,\n",
       "          7.79269266e+00,  -6.83656693e-01,  -1.24655098e-01,\n",
       "          9.84490156e-01,  -1.88227907e-01,   1.05177796e+00,\n",
       "          1.06670439e+00,  -1.26054204e+00,   1.06478906e+00,\n",
       "         -5.21879435e-01,  -4.16793585e-01,  -9.10377026e-01],\n",
       "       [  2.62429342e-02,   7.43044257e-01,   5.34014702e-02,\n",
       "          1.01236120e-01,   1.19379751e-01,  -5.65361619e-01,\n",
       "          1.43762469e-01,  -3.76609176e-01,   2.93226182e-01,\n",
       "          2.80344772e+00,  -2.41559148e-01,   2.24326164e-01,\n",
       "          6.70267463e-01,  -4.21327446e-03,   4.57224786e-01,\n",
       "          3.99236083e-01,  -4.58180636e-01,   4.66359675e-01,\n",
       "         -2.14010149e-01,  -1.20179266e-01,  -3.29496384e-01],\n",
       "       [ -1.55723423e-01,  -5.78593254e-01,   8.72040540e-03,\n",
       "         -6.32367551e-01,  -1.16319454e+00,   1.95551902e-01,\n",
       "         -6.49638355e-01,   4.64087158e-01,  -5.43205500e-01,\n",
       "         -3.58172417e+00,   4.52566475e-01,   5.26450038e-01,\n",
       "          2.54341885e-02,   1.53246164e-01,  -4.17558491e-01,\n",
       "         -5.99674225e-01,   6.00580513e-01,  -2.87190787e-02,\n",
       "          1.83882475e-01,   2.33322114e-01,   4.33182269e-01],\n",
       "       [ -7.58145034e-01,  -2.60601401e+00,   4.79828209e-01,\n",
       "         -1.83720827e+00,  -3.11438155e+00,   1.65066266e+00,\n",
       "         -2.28177738e+00,   1.80892551e+00,  -1.97106326e+00,\n",
       "         -1.24698095e+01,   1.01651990e+00,   1.06024468e+00,\n",
       "         -6.09287977e-01,   4.92362618e-01,  -1.67412078e+00,\n",
       "         -1.47680640e+00,   2.02765679e+00,  -1.15495157e+00,\n",
       "          8.26558113e-01,   6.88941836e-01,   1.46678793e+00],\n",
       "       [ -1.55244970e+00,  -6.86508131e+00,   3.14728200e-01,\n",
       "         -4.37080145e+00,  -7.53469658e+00,   4.19738436e+00,\n",
       "         -4.90349436e+00,   4.44651794e+00,  -4.55219746e+00,\n",
       "         -3.21478767e+01,   2.96019506e+00,   2.28623772e+00,\n",
       "         -2.14169192e+00,   1.07334375e+00,  -4.14948702e+00,\n",
       "         -4.26841974e+00,   5.38328457e+00,  -2.70974183e+00,\n",
       "          2.08331156e+00,   1.97071218e+00,   3.93795419e+00],\n",
       "       [  2.91022599e-01,   1.29087985e+00,  -2.00133592e-01,\n",
       "          5.05646527e-01,   8.57366741e-01,  -1.03261507e+00,\n",
       "          6.18703902e-01,  -7.37184644e-01,   7.97748268e-01,\n",
       "          5.18383980e+00,  -3.76333982e-01,  -4.01285701e-02,\n",
       "          8.29571366e-01,  -1.11846648e-01,   6.86729491e-01,\n",
       "          6.24651253e-01,  -8.64894569e-01,   8.10010850e-01,\n",
       "         -3.58553708e-01,  -2.67263532e-01,  -5.72077811e-01],\n",
       "       [ -2.59589076e-01,  -8.59722495e-01,   2.31140107e-01,\n",
       "         -7.31393099e-01,  -1.45826066e+00,   3.70117515e-01,\n",
       "         -8.78723443e-01,   5.91995299e-01,  -6.43591583e-01,\n",
       "         -4.33618593e+00,   3.84028494e-01,   5.34414887e-01,\n",
       "         -8.71187747e-02,   2.32174620e-01,  -4.42615986e-01,\n",
       "         -5.04423320e-01,   6.87143743e-01,  -2.21933380e-01,\n",
       "          2.81001270e-01,   2.94699162e-01,   5.13147473e-01],\n",
       "       [ -5.39801300e-01,  -1.27225244e+00,   3.20099831e-01,\n",
       "         -1.03021932e+00,  -2.03404188e+00,   6.67948365e-01,\n",
       "         -1.31455588e+00,   9.12636280e-01,  -1.04904926e+00,\n",
       "         -6.03630495e+00,   4.48110372e-01,   8.55146885e-01,\n",
       "         -1.63308933e-01,   3.18752766e-01,  -6.19668663e-01,\n",
       "         -6.45081818e-01,   1.05004692e+00,  -4.62518096e-01,\n",
       "          3.81559342e-01,   3.87517095e-01,   7.28297174e-01],\n",
       "       [  1.57358766e-01,   1.19096255e+00,  -1.42225489e-01,\n",
       "          4.07550812e-01,   5.40819585e-01,  -9.47742343e-01,\n",
       "          4.03080523e-01,  -6.47500813e-01,   5.98398149e-01,\n",
       "          4.72896862e+00,  -3.69689792e-01,   1.45764649e-01,\n",
       "          7.37387657e-01,  -8.17090198e-02,   7.05854356e-01,\n",
       "          6.36979759e-01,  -7.22370207e-01,   8.23754430e-01,\n",
       "         -3.69421035e-01,  -2.29980201e-01,  -5.49251139e-01],\n",
       "       [ -9.45740640e-01,  -2.53530669e+00,   5.47576845e-01,\n",
       "         -1.96287668e+00,  -3.21002913e+00,   1.65802407e+00,\n",
       "         -2.12286329e+00,   1.79267609e+00,  -2.01276016e+00,\n",
       "         -1.23344364e+01,   1.08297539e+00,   1.15962911e+00,\n",
       "         -5.66468477e-01,   4.68222350e-01,  -1.68392026e+00,\n",
       "         -1.45344436e+00,   2.03186584e+00,  -1.08186603e+00,\n",
       "          8.59023154e-01,   6.71939492e-01,   1.49607229e+00]], dtype=float32)"
      ]
     },
     "execution_count": 9,
     "metadata": {},
     "output_type": "execute_result"
    }
   ],
   "source": [
    "raveled_answers = np.concatenate(answers, axis=0)\n",
    "raveled_answers"
   ]
  },
  {
   "cell_type": "code",
   "execution_count": 10,
   "metadata": {},
   "outputs": [
    {
     "data": {
      "text/plain": [
       "array([[  1.68269962e-01,   3.77221912e-01,   7.15167522e-02,\n",
       "          2.77326137e-01,   3.94027978e-01,   3.09101865e-03,\n",
       "          2.99753189e-01,   3.20923980e-03,   2.92367041e-01,\n",
       "          8.87184799e-01,   1.56313032e-02,   3.40631120e-02,\n",
       "          2.05337331e-01,   6.09101616e-02,   2.67965585e-01,\n",
       "          2.81884640e-01,   1.17414515e-03,   2.38813445e-01,\n",
       "          3.04954555e-02,   3.59994657e-02,   5.94692770e-03],\n",
       "       [  1.25317067e-01,   1.25328213e-01,   8.82219151e-02,\n",
       "          1.34407103e-01,   1.14519224e-01,   6.83252001e-03,\n",
       "          1.36046484e-01,   6.51313923e-03,   1.33242711e-01,\n",
       "          6.04244275e-03,   2.43217815e-02,   4.82886396e-02,\n",
       "          1.49969488e-01,   7.32160658e-02,   1.47865877e-01,\n",
       "          1.44608453e-01,   2.61928607e-03,   1.31269574e-01,\n",
       "          4.14897986e-02,   4.84299473e-02,   1.06308041e-02],\n",
       "       [  1.04467995e-01,   3.34247909e-02,   8.43668357e-02,\n",
       "          6.45389780e-02,   3.17587741e-02,   1.46231661e-02,\n",
       "          6.15343377e-02,   1.50973303e-02,   5.77278845e-02,\n",
       "          1.01898504e-05,   4.86912057e-02,   6.53214455e-02,\n",
       "          7.86964670e-02,   8.57018679e-02,   6.16530403e-02,\n",
       "          5.32565005e-02,   7.55087426e-03,   8.00118223e-02,\n",
       "          6.17651679e-02,   6.89664111e-02,   2.27925573e-02],\n",
       "       [  5.71945980e-02,   4.40120231e-03,   1.35136083e-01,\n",
       "          1.93448979e-02,   4.51308908e-03,   6.26596659e-02,\n",
       "          1.20306332e-02,   5.79370186e-02,   1.38444295e-02,\n",
       "          1.40643930e-09,   8.55800211e-02,   1.11398607e-01,\n",
       "          4.17156555e-02,   1.20300248e-01,   1.75483581e-02,\n",
       "          2.21533217e-02,   3.14607210e-02,   2.59440374e-02,\n",
       "          1.17450319e-01,   1.08770423e-01,   6.40740544e-02],\n",
       "       [  2.58459691e-02,   6.22130974e-05,   1.14569575e-01,\n",
       "          1.53546850e-03,   5.42944690e-05,   7.99862146e-01,\n",
       "          8.74362362e-04,   8.09930861e-01,   1.04785804e-03,\n",
       "          3.99985791e-18,   5.97722709e-01,   3.79596174e-01,\n",
       "          9.01123881e-03,   2.15071812e-01,   1.47638097e-03,\n",
       "          1.35849009e-03,   9.01777029e-01,   5.48025314e-03,\n",
       "          4.12719786e-01,   3.91901165e-01,   7.58396208e-01],\n",
       "       [  1.63306221e-01,   2.16755778e-01,   6.84648305e-02,\n",
       "          2.01398119e-01,   2.39542231e-01,   4.28208429e-03,\n",
       "          2.18751818e-01,   4.54144785e-03,   2.20675692e-01,\n",
       "          6.53136075e-02,   2.12551262e-02,   3.70675363e-02,\n",
       "          1.75868317e-01,   6.57448769e-02,   1.86011821e-01,\n",
       "          1.81171671e-01,   1.74401223e-03,   1.85101494e-01,\n",
       "          3.59059833e-02,   4.18057404e-02,   8.34092032e-03],\n",
       "       [  9.41618904e-02,   2.52334122e-02,   1.05382234e-01,\n",
       "          5.84542044e-02,   2.36438289e-02,   1.74122285e-02,\n",
       "          4.89358567e-02,   1.71573404e-02,   5.22142090e-02,\n",
       "          4.79191431e-06,   4.54657897e-02,   6.58437833e-02,\n",
       "          7.03192502e-02,   9.27402526e-02,   6.01273477e-02,\n",
       "          5.85786328e-02,   8.23362637e-03,   6.59541339e-02,\n",
       "          6.80646822e-02,   7.33319744e-02,   2.46900208e-02],\n",
       "       [  7.11509138e-02,   1.67038459e-02,   1.15186639e-01,\n",
       "          4.33548018e-02,   1.32941129e-02,   2.34531164e-02,\n",
       "          3.16481069e-02,   2.36430019e-02,   3.48097384e-02,\n",
       "          8.75299577e-07,   4.84747179e-02,   9.07417163e-02,\n",
       "          6.51606098e-02,   1.01127386e-01,   5.03708348e-02,\n",
       "          5.08922972e-02,   1.18358098e-02,   5.18510453e-02,\n",
       "          7.52651170e-02,   8.04643705e-02,   3.06168031e-02],\n",
       "       [  1.42873973e-01,   1.96144938e-01,   7.25465715e-02,\n",
       "          1.82579875e-01,   1.74545035e-01,   4.66138730e-03,\n",
       "          1.76322460e-01,   4.96756751e-03,   1.80791467e-01,\n",
       "          4.14434262e-02,   2.13968195e-02,   4.46402133e-02,\n",
       "          1.60380945e-01,   6.77564219e-02,   1.89603522e-01,\n",
       "          1.83419004e-01,   2.01116083e-03,   1.87662974e-01,\n",
       "          3.55178677e-02,   4.33938392e-02,   8.53350945e-03],\n",
       "       [  4.74114642e-02,   4.72366530e-03,   1.44608617e-01,\n",
       "          1.70604028e-02,   4.10142355e-03,   6.31226301e-02,\n",
       "          1.41027626e-02,   5.70031703e-02,   1.32790338e-02,\n",
       "          1.61032376e-09,   9.14604962e-02,   1.23038776e-01,\n",
       "          4.35406752e-02,   1.17430933e-01,   1.73772238e-02,\n",
       "          2.26769634e-02,   3.15934010e-02,   2.79111881e-02,\n",
       "          1.21325910e-01,   1.06936678e-01,   6.59781769e-02]], dtype=float32)"
      ]
     },
     "execution_count": 10,
     "metadata": {},
     "output_type": "execute_result"
    }
   ],
   "source": [
    "softmax(raveled_answers)"
   ]
  },
  {
   "cell_type": "code",
   "execution_count": 11,
   "metadata": {},
   "outputs": [],
   "source": [
    "predicted = np.argmax(softmax(np.concatenate(answers, axis=0)), axis=1)"
   ]
  },
  {
   "cell_type": "code",
   "execution_count": 12,
   "metadata": {},
   "outputs": [],
   "source": [
    "true = np.argmax(np.concatenate(labels, 0), 1).ravel()"
   ]
  },
  {
   "cell_type": "code",
   "execution_count": 13,
   "metadata": {},
   "outputs": [],
   "source": [
    "recall = np.zeros(21)\n",
    "\n",
    "for i in range(21):\n",
    "    recall[i] = ((predicted == i) * (true == i)).sum() / float((predicted == i).sum()) if (predicted == i).sum() > 0 else 0"
   ]
  },
  {
   "cell_type": "code",
   "execution_count": 14,
   "metadata": {},
   "outputs": [
    {
     "data": {
      "text/plain": [
       "array([ 0.  ,  0.  ,  0.25,  0.  ,  0.  ,  0.  ,  0.  ,  0.  ,  0.  ,\n",
       "        0.  ,  0.  ,  0.  ,  0.  ,  0.  ,  0.  ,  0.  ,  0.  ,  0.  ,\n",
       "        0.  ,  0.  ,  0.  ])"
      ]
     },
     "execution_count": 14,
     "metadata": {},
     "output_type": "execute_result"
    }
   ],
   "source": [
    "recall"
   ]
  },
  {
   "cell_type": "code",
   "execution_count": 15,
   "metadata": {},
   "outputs": [
    {
     "data": {
      "text/plain": [
       "(array([ 2.,  4.,  1.,  0.,  0.,  1.,  0.,  1.,  0.,  1.]),\n",
       " array([  0. ,   1.6,   3.2,   4.8,   6.4,   8. ,   9.6,  11.2,  12.8,\n",
       "         14.4,  16. ]),\n",
       " <a list of 10 Patch objects>)"
      ]
     },
     "execution_count": 15,
     "metadata": {},
     "output_type": "execute_result"
    },
    {
     "data": {
      "image/png": "[encoded data removed]",
      "text/plain": [
       "<matplotlib.figure.Figure at 0x7f5d40ef9f50>"
      ]
     },
     "metadata": {},
     "output_type": "display_data"
    }
   ],
   "source": [
    "plt.hist(np.argmax(softmax(np.concatenate(answers, axis=0)), axis=1))"
   ]
  },
  {
   "cell_type": "code",
   "execution_count": 16,
   "metadata": {},
   "outputs": [
    {
     "data": {
      "text/plain": [
       "(array([ 1.,  0.,  2.,  1.,  1.,  1.,  1.,  0.,  1.,  2.]),\n",
       " array([  2. ,   3.7,   5.4,   7.1,   8.8,  10.5,  12.2,  13.9,  15.6,\n",
       "         17.3,  19. ]),\n",
       " <a list of 10 Patch objects>)"
      ]
     },
     "execution_count": 16,
     "metadata": {},
     "output_type": "execute_result"
    },
    {
     "data": {
      "image/png": "[encoded data removed]",
      "text/plain": [
       "<matplotlib.figure.Figure at 0x7f5d40ef9610>"
      ]
     },
     "metadata": {},
     "output_type": "display_data"
    }
   ],
   "source": [
    "plt.hist(np.argmax(np.concatenate(labels, 0), 1).ravel())"
   ]
  },
  {
   "cell_type": "code",
   "execution_count": 17,
   "metadata": {},
   "outputs": [
    {
     "data": {
      "text/plain": [
       "[array([[ 0.,  0.,  0.,  0.,  0.,  0.,  0.,  0.,  0.,  0.,  0.,  0.,  0.,\n",
       "          0.,  0.,  0.,  0.,  0.,  1.,  0.,  0.],\n",
       "        [ 0.,  0.,  0.,  0.,  0.,  0.,  0.,  0.,  1.,  0.,  0.,  0.,  0.,\n",
       "          0.,  0.,  0.,  0.,  0.,  0.,  0.,  0.],\n",
       "        [ 0.,  0.,  0.,  0.,  0.,  0.,  0.,  0.,  0.,  0.,  1.,  0.,  0.,\n",
       "          0.,  0.,  0.,  0.,  0.,  0.,  0.,  0.],\n",
       "        [ 0.,  0.,  0.,  0.,  0.,  0.,  0.,  0.,  0.,  0.,  0.,  0.,  0.,\n",
       "          0.,  0.,  0.,  0.,  0.,  0.,  1.,  0.],\n",
       "        [ 0.,  0.,  0.,  0.,  0.,  0.,  1.,  0.,  0.,  0.,  0.,  0.,  0.,\n",
       "          0.,  0.,  0.,  0.,  0.,  0.,  0.,  0.],\n",
       "        [ 0.,  0.,  0.,  0.,  0.,  0.,  0.,  1.,  0.,  0.,  0.,  0.,  0.,\n",
       "          0.,  0.,  0.,  0.,  0.,  0.,  0.,  0.],\n",
       "        [ 0.,  0.,  0.,  0.,  0.,  0.,  0.,  0.,  0.,  0.,  0.,  0.,  0.,\n",
       "          0.,  0.,  0.,  0.,  1.,  0.,  0.,  0.],\n",
       "        [ 0.,  0.,  0.,  0.,  0.,  0.,  0.,  0.,  0.,  0.,  0.,  0.,  0.,\n",
       "          1.,  0.,  0.,  0.,  0.,  0.,  0.,  0.],\n",
       "        [ 0.,  0.,  0.,  0.,  0.,  0.,  0.,  0.,  0.,  0.,  0.,  0.,  1.,\n",
       "          0.,  0.,  0.,  0.,  0.,  0.,  0.,  0.],\n",
       "        [ 0.,  0.,  1.,  0.,  0.,  0.,  0.,  0.,  0.,  0.,  0.,  0.,  0.,\n",
       "          0.,  0.,  0.,  0.,  0.,  0.,  0.,  0.]])]"
      ]
     },
     "execution_count": 17,
     "metadata": {},
     "output_type": "execute_result"
    }
   ],
   "source": [
    "labels"
   ]
  },
  {
   "cell_type": "code",
   "execution_count": 18,
   "metadata": {},
   "outputs": [
    {
     "data": {
      "text/plain": [
       "array([[  1.68269962e-01,   3.77221912e-01,   7.15167522e-02,\n",
       "          2.77326137e-01,   3.94027978e-01,   3.09101865e-03,\n",
       "          2.99753189e-01,   3.20923980e-03,   2.92367041e-01,\n",
       "          8.87184799e-01,   1.56313032e-02,   3.40631120e-02,\n",
       "          2.05337331e-01,   6.09101616e-02,   2.67965585e-01,\n",
       "          2.81884640e-01,   1.17414515e-03,   2.38813445e-01,\n",
       "          3.04954555e-02,   3.59994657e-02,   5.94692770e-03],\n",
       "       [  1.25317067e-01,   1.25328213e-01,   8.82219151e-02,\n",
       "          1.34407103e-01,   1.14519224e-01,   6.83252001e-03,\n",
       "          1.36046484e-01,   6.51313923e-03,   1.33242711e-01,\n",
       "          6.04244275e-03,   2.43217815e-02,   4.82886396e-02,\n",
       "          1.49969488e-01,   7.32160658e-02,   1.47865877e-01,\n",
       "          1.44608453e-01,   2.61928607e-03,   1.31269574e-01,\n",
       "          4.14897986e-02,   4.84299473e-02,   1.06308041e-02],\n",
       "       [  1.04467995e-01,   3.34247909e-02,   8.43668357e-02,\n",
       "          6.45389780e-02,   3.17587741e-02,   1.46231661e-02,\n",
       "          6.15343377e-02,   1.50973303e-02,   5.77278845e-02,\n",
       "          1.01898504e-05,   4.86912057e-02,   6.53214455e-02,\n",
       "          7.86964670e-02,   8.57018679e-02,   6.16530403e-02,\n",
       "          5.32565005e-02,   7.55087426e-03,   8.00118223e-02,\n",
       "          6.17651679e-02,   6.89664111e-02,   2.27925573e-02],\n",
       "       [  5.71945980e-02,   4.40120231e-03,   1.35136083e-01,\n",
       "          1.93448979e-02,   4.51308908e-03,   6.26596659e-02,\n",
       "          1.20306332e-02,   5.79370186e-02,   1.38444295e-02,\n",
       "          1.40643930e-09,   8.55800211e-02,   1.11398607e-01,\n",
       "          4.17156555e-02,   1.20300248e-01,   1.75483581e-02,\n",
       "          2.21533217e-02,   3.14607210e-02,   2.59440374e-02,\n",
       "          1.17450319e-01,   1.08770423e-01,   6.40740544e-02],\n",
       "       [  2.58459691e-02,   6.22130974e-05,   1.14569575e-01,\n",
       "          1.53546850e-03,   5.42944690e-05,   7.99862146e-01,\n",
       "          8.74362362e-04,   8.09930861e-01,   1.04785804e-03,\n",
       "          3.99985791e-18,   5.97722709e-01,   3.79596174e-01,\n",
       "          9.01123881e-03,   2.15071812e-01,   1.47638097e-03,\n",
       "          1.35849009e-03,   9.01777029e-01,   5.48025314e-03,\n",
       "          4.12719786e-01,   3.91901165e-01,   7.58396208e-01],\n",
       "       [  1.63306221e-01,   2.16755778e-01,   6.84648305e-02,\n",
       "          2.01398119e-01,   2.39542231e-01,   4.28208429e-03,\n",
       "          2.18751818e-01,   4.54144785e-03,   2.20675692e-01,\n",
       "          6.53136075e-02,   2.12551262e-02,   3.70675363e-02,\n",
       "          1.75868317e-01,   6.57448769e-02,   1.86011821e-01,\n",
       "          1.81171671e-01,   1.74401223e-03,   1.85101494e-01,\n",
       "          3.59059833e-02,   4.18057404e-02,   8.34092032e-03],\n",
       "       [  9.41618904e-02,   2.52334122e-02,   1.05382234e-01,\n",
       "          5.84542044e-02,   2.36438289e-02,   1.74122285e-02,\n",
       "          4.89358567e-02,   1.71573404e-02,   5.22142090e-02,\n",
       "          4.79191431e-06,   4.54657897e-02,   6.58437833e-02,\n",
       "          7.03192502e-02,   9.27402526e-02,   6.01273477e-02,\n",
       "          5.85786328e-02,   8.23362637e-03,   6.59541339e-02,\n",
       "          6.80646822e-02,   7.33319744e-02,   2.46900208e-02],\n",
       "       [  7.11509138e-02,   1.67038459e-02,   1.15186639e-01,\n",
       "          4.33548018e-02,   1.32941129e-02,   2.34531164e-02,\n",
       "          3.16481069e-02,   2.36430019e-02,   3.48097384e-02,\n",
       "          8.75299577e-07,   4.84747179e-02,   9.07417163e-02,\n",
       "          6.51606098e-02,   1.01127386e-01,   5.03708348e-02,\n",
       "          5.08922972e-02,   1.18358098e-02,   5.18510453e-02,\n",
       "          7.52651170e-02,   8.04643705e-02,   3.06168031e-02],\n",
       "       [  1.42873973e-01,   1.96144938e-01,   7.25465715e-02,\n",
       "          1.82579875e-01,   1.74545035e-01,   4.66138730e-03,\n",
       "          1.76322460e-01,   4.96756751e-03,   1.80791467e-01,\n",
       "          4.14434262e-02,   2.13968195e-02,   4.46402133e-02,\n",
       "          1.60380945e-01,   6.77564219e-02,   1.89603522e-01,\n",
       "          1.83419004e-01,   2.01116083e-03,   1.87662974e-01,\n",
       "          3.55178677e-02,   4.33938392e-02,   8.53350945e-03],\n",
       "       [  4.74114642e-02,   4.72366530e-03,   1.44608617e-01,\n",
       "          1.70604028e-02,   4.10142355e-03,   6.31226301e-02,\n",
       "          1.41027626e-02,   5.70031703e-02,   1.32790338e-02,\n",
       "          1.61032376e-09,   9.14604962e-02,   1.23038776e-01,\n",
       "          4.35406752e-02,   1.17430933e-01,   1.73772238e-02,\n",
       "          2.26769634e-02,   3.15934010e-02,   2.79111881e-02,\n",
       "          1.21325910e-01,   1.06936678e-01,   6.59781769e-02]], dtype=float32)"
      ]
     },
     "execution_count": 18,
     "metadata": {},
     "output_type": "execute_result"
    }
   ],
   "source": [
    "softmax(raveled_answers)"
   ]
  },
  {
   "cell_type": "code",
   "execution_count": null,
   "metadata": {},
   "outputs": [],
   "source": []
  },
  {
   "cell_type": "code",
   "execution_count": null,
   "metadata": {},
   "outputs": [],
   "source": []
  }
 ],
 "metadata": {
  "kernelspec": {
   "display_name": "Python Timo",
   "language": "python",
   "name": "python2.7-timo"
  },
  "language_info": {
   "codemirror_mode": {
    "name": "ipython",
    "version": 2
   },
   "file_extension": ".py",
   "mimetype": "text/x-python",
   "name": "python",
   "nbconvert_exporter": "python",
   "pygments_lexer": "ipython2",
   "version": "2.7.15rc1"
  },
  "toc": {
   "base_numbering": 1,
   "nav_menu": {},
   "number_sections": true,
   "sideBar": true,
   "skip_h1_title": false,
   "title_cell": "Table of Contents",
   "title_sidebar": "Contents",
   "toc_cell": true,
   "toc_position": {},
   "toc_section_display": true,
   "toc_window_display": false
  }
 },
 "nbformat": 4,
 "nbformat_minor": 2
}
