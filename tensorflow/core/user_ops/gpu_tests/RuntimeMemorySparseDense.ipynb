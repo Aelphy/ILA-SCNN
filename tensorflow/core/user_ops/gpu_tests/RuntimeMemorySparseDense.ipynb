{
 "cells": [
  {
   "cell_type": "code",
   "execution_count": 1,
   "metadata": {},
   "outputs": [],
   "source": [
    "from __future__ import absolute_import\n",
    "from __future__ import division\n",
    "from __future__ import print_function\n",
    "\n",
    "import collections\n",
    "import math\n",
    "\n",
    "from tensorflow.python.framework import constant_op\n",
    "from tensorflow.python.framework import dtypes\n",
    "from tensorflow.python.ops import gradient_checker\n",
    "from tensorflow.python.ops import nn_ops\n",
    "from tensorflow.python.client import timeline\n",
    "import tensorflow.python.ops.nn_grad  # pylint: disable=unused-import\n",
    "from tensorflow.python.platform import test\n",
    "import tensorflow as tf\n",
    "import random\n",
    "import numpy as np\n",
    "import time\n",
    "import sparse_tools as sp\n",
    "from direct_sparse_module import sparse_nn_ops as sc_module\n",
    "import os\n",
    "import sys\n",
    "\n",
    "def verifyValues(\n",
    "    tensor_in_sizes,\n",
    "    filter_in_sizes,\n",
    "    stride,\n",
    "    rho_data = 0.1,\n",
    "    rho_filter = 1,\n",
    "    padding = 'SAME',\n",
    "    dim = 5,\n",
    "    max_density = 0.1,\n",
    "    num_trials = 3,\n",
    "    filter_type = 'K-RELU',\n",
    "    test_type = '',\n",
    "    dense=True\n",
    "):\n",
    "    if isinstance(stride, collections.Iterable):\n",
    "        strides = [1] + list(stride) + [1]\n",
    "    else:\n",
    "        strides = [1, stride, stride, stride, 1]\n",
    "\n",
    "    bias = np.zeros([filter_in_sizes[-1]], dtype=np.float32)\n",
    "    no_strides = [1, 1, 1, 1, 1]\n",
    "    [t1ind, t1val, t1sh] = sp.createRandomSparseTensor(rho_data, tensor_in_sizes, -3, 3)\n",
    "    s1 = tf.SparseTensor(indices=t1ind, values=t1val, dense_shape=t1sh)\n",
    "    d1 = sp.sparse_to_dense(t1ind, t1val, t1sh)\n",
    "\n",
    "    [t2ind, t2val, t2sh] = sp.createRandomSparseTensor(rho_filter, filter_in_sizes)\n",
    "    s2 = tf.SparseTensor(indices=t2ind, values=t2val, dense_shape=t2sh)\n",
    "    d2 = sp.sparse_to_dense(t2ind, t2val, t2sh)\n",
    "\n",
    "    print(\"strides: \\n\", strides)\n",
    "    print(\"input shape\", tensor_in_sizes)\n",
    "    print(\"filter shape\", filter_in_sizes)\n",
    "\n",
    "    config = tf.ConfigProto()\n",
    "    config.gpu_options.per_process_gpu_memory_fraction = 0.7\n",
    "\n",
    "    with tf.device(\"/gpu:0\"):\n",
    "        convd = sc_module.direct_sparse_data_conversion(t1ind, t1val, t1sh)\n",
    "        convf = sc_module.direct_sparse_filter_conversion(t2ind, t2val, t2sh, t1sh)\n",
    "    with tf.Session(config=config) as sess:\n",
    "        pd = sess.run(convd)\n",
    "        pf = sess.run(convf)\n",
    "\n",
    "    tf.reset_default_graph()\n",
    "\n",
    "    ts = 0\n",
    "    with tf.device(\"/gpu:0\"):\n",
    "        approx_scskconv = sc_module.direct_sparse_conv_kd(pd.out_indices, pd.out_values, pd.out_shape, pd.out_block_channel_mapping, pf.out_indices, pf.out_values, pf.out_shape, pf.out_channel_mapping, bias, strides, padding, dim, max_density, filter_type);\n",
    "    with tf.Session(config=config) as sess:\n",
    "        t6 = time.time()\n",
    "        sv3 = sess.run(approx_scskconv)\n",
    "        t5 = time.time()\n",
    "        for i in range(0, num_trials):\n",
    "            sess.run(approx_scskconv)\n",
    "        t6 = time.time()\n",
    "        ts =  abs(t6 - t5) / max(num_trials,1)\n",
    "        print(\"time approx sparse: \", ts)\n",
    "    tf.reset_default_graph()\n",
    "    \n",
    "    time.sleep(1)\n",
    "    \n",
    "    if dense:\n",
    "        td = 0\n",
    "        with tf.device(\"/gpu:0\"):\n",
    "            conv = nn_ops.conv3d(d1, d2, strides, padding)\n",
    "        with tf.Session(config=config) as sess:\n",
    "            t22 = time.time()\n",
    "            expected = sess.run(conv)\n",
    "            t11 = time.time()\n",
    "            for i in range(0, num_trials):\n",
    "                sess.run(conv)\n",
    "            t22 = time.time()\n",
    "            td = abs(t22 - t11) / max(num_trials,1)\n",
    "            print(\"time dense gpu: \", td)\n",
    "        tf.reset_default_graph()\n",
    "\n",
    "        print(\"time ratio: \", ts / td)\n",
    "        return [expected, sv3, ts, td]\n",
    "        \n",
    "\n",
    "def do_test(res, f_density, batch_size):\n",
    "    pid = os.getpid()\n",
    "    print(pid)\n",
    "\n",
    "    num_trials = 3\n",
    "    res = res\n",
    "    channel_count = 1\n",
    "    channel_count_out = 8\n",
    "    filter_res = 3\n",
    "    batch_size = batch_size\n",
    "    max_density = 2/res\n",
    "    in_density = 2/res\n",
    "    f_density = f_density\n",
    "    filter_type = 'K-RELU'\n",
    "    test_type = ''\n",
    "    ret_value = verifyValues(\n",
    "      tensor_in_sizes=[batch_size, res, res, res, channel_count], #[batch, depth, height, width, in_channels]\n",
    "      filter_in_sizes=[filter_res, filter_res, filter_res, channel_count, channel_count_out], #[depth, height, width, in_channels, out_channels]\n",
    "      stride=1,\n",
    "      rho_data=1 * in_density,\n",
    "      rho_filter=1 * f_density,\n",
    "      padding='SAME',\n",
    "      max_density=max_density,\n",
    "      num_trials=num_trials,\n",
    "      filter_type=filter_type,\n",
    "      test_type=test_type)"
   ]
  },
  {
   "cell_type": "code",
   "execution_count": 3,
   "metadata": {
    "scrolled": true
   },
   "outputs": [
    {
     "name": "stdout",
     "output_type": "stream",
     "text": [
      "========================================================================\n",
      "========================================================================\n",
      "res = 128 f_density = 1 batch = 8\n",
      "7017\n",
      "strides: \n",
      " [1, 1, 1, 1, 1]\n",
      "input shape [8, 128, 128, 128, 1]\n",
      "filter shape [3, 3, 3, 1, 8]\n",
      "time approx sparse:  0.0939983526866\n",
      "time dense gpu:  0.0410206317902\n",
      "time ratio:  2.29148963788\n"
     ]
    }
   ],
   "source": [
    "for res in [2**i for i in range(7, 8)]:\n",
    "    for f_density in [1]:\n",
    "        for batch in [8]:\n",
    "            print('========================================================================')\n",
    "            print('========================================================================')\n",
    "            print('res = {} f_density = {} batch = {}'.format(res, f_density, batch))\n",
    "            do_test(res, f_density, batch)"
   ]
  },
  {
   "cell_type": "code",
   "execution_count": 4,
   "metadata": {},
   "outputs": [
    {
     "name": "stdout",
     "output_type": "stream",
     "text": [
      "23715\n",
      "strides: \n",
      " [1, 1, 1, 1, 1]\n",
      "input shape [1, 256, 256, 256, 1]\n",
      "filter shape [3, 3, 3, 1, 8]\n",
      "time approx sparse:  0.0119063059489\n",
      "time dense gpu:  0.0411930084229\n",
      "time ratio:  0.289037057616\n"
     ]
    }
   ],
   "source": [
    "do_test(256, 0.1, 1)"
   ]
  },
  {
   "cell_type": "code",
   "execution_count": 3,
   "metadata": {},
   "outputs": [
    {
     "name": "stdout",
     "output_type": "stream",
     "text": [
      "26103\n",
      "strides: \n",
      " [1, 1, 1, 1, 1]\n",
      "input shape [1, 512, 512, 512, 1]\n",
      "filter shape [3, 3, 3, 1, 8]\n",
      "time approx sparse:  0.0975413322449\n",
      "time dense gpu:  0.326481024424\n",
      "time ratio:  0.298765701366\n"
     ]
    }
   ],
   "source": [
    "do_test(512, 0.3, 1)"
   ]
  },
  {
   "cell_type": "code",
   "execution_count": 4,
   "metadata": {},
   "outputs": [
    {
     "name": "stdout",
     "output_type": "stream",
     "text": [
      "26103\n",
      "strides: \n",
      " [1, 1, 1, 1, 1]\n",
      "input shape [1, 512, 512, 512, 1]\n",
      "filter shape [3, 3, 3, 1, 8]\n",
      "time approx sparse:  0.199480374654\n",
      "time dense gpu:  0.326937993368\n",
      "time ratio:  0.610147424591\n"
     ]
    }
   ],
   "source": [
    "do_test(512, 1, 1)"
   ]
  },
  {
   "cell_type": "code",
   "execution_count": null,
   "metadata": {},
   "outputs": [],
   "source": []
  }
 ],
 "metadata": {
  "kernelspec": {
   "display_name": "Python 2",
   "language": "python",
   "name": "python2"
  },
  "language_info": {
   "codemirror_mode": {
    "name": "ipython",
    "version": 2
   },
   "file_extension": ".py",
   "mimetype": "text/x-python",
   "name": "python",
   "nbconvert_exporter": "python",
   "pygments_lexer": "ipython2",
   "version": "2.7.6"
  }
 },
 "nbformat": 4,
 "nbformat_minor": 2
}
